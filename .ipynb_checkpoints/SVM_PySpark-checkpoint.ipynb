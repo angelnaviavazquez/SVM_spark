{
 "cells": [
  {
   "cell_type": "markdown",
   "metadata": {},
   "source": [
    "# **Semiparametric SVM trainingResolution**\n",
    "\n",
    "#### bla, bla, bla. \n",
    "\n",
    "#### We will use data files from UCI:\n",
    "\n",
    "* **Ripley**, the Ripley dataset\n",
    "* **Kwok**, the Kwok dataset\n",
    "* **Twonorm**, the Twonorm dataset\n",
    "* **Waveform**, the Waveform dataset\n"
   ]
  },
  {
   "cell_type": "code",
   "execution_count": 21,
   "metadata": {
    "collapsed": false
   },
   "outputs": [
    {
     "name": "stdout",
     "output_type": "stream",
     "text": [
      "4736 1184 1480 20\n",
      "<pyspark.context.SparkContext object at 0x7fe0300b8610>\n"
     ]
    }
   ],
   "source": [
    "import scipy.io\n",
    "from pyspark.mllib.clustering import KMeans, KMeansModel\n",
    "from pyspark.mllib.clustering import GaussianMixture\n",
    "from numpy import array\n",
    "from math import sqrt\n",
    "import numpy as np\n",
    "import matplotlib.pyplot as plt\n",
    "from pyspark.mllib.regression import LabeledPoint\n",
    "%matplotlib inline\n",
    "\n",
    "kfold = 1\n",
    "kdataset = 3\n",
    "Niter = 150\n",
    "Niter = 5\n",
    "\n",
    "\n",
    "if kdataset == 1:\n",
    "    mat = scipy.io.loadmat('./data/ripley_5fold.mat')\n",
    "    name_dataset = 'Ripley'\n",
    "\n",
    "if kdataset == 2:\n",
    "    mat = scipy.io.loadmat('./data/kwok_5fold.mat')\n",
    "    name_dataset = 'Kwok'\n",
    "\n",
    "if kdataset == 3:\n",
    "    mat = scipy.io.loadmat('./data/twonorm_5fold.mat')\n",
    "    name_dataset = 'Twonorm'\n",
    "\n",
    "if kdataset == 4:\n",
    "    mat = scipy.io.loadmat('./data/waveform_5fold.mat')\n",
    "    name_dataset = 'Waveform'\n",
    "\n",
    "index_tr = mat['index_tr']\n",
    "index_val = mat['index_val']\n",
    "x_tr =  mat['x_tr']\n",
    "x_tst = mat['x_tst']\n",
    "y_tr =  mat['y_tr']\n",
    "y_tst =  mat['y_tst']\n",
    "\n",
    "ind_tr = np.where(index_tr[:,kfold] == 1)\n",
    "ind_val = np.where(index_val[:,kfold] == 1)\n",
    "\n",
    "x_tr_ = x_tr[ind_tr]\n",
    "y_tr_ = y_tr[ind_tr]\n",
    "\n",
    "x_val_ = x_tr[ind_val]\n",
    "y_val_ = y_tr[ind_val]\n",
    "\n",
    "x_tst_ = x_tst\n",
    "y_tst_ = y_tst\n",
    "\n",
    "NPtr = x_tr_.shape[0]\n",
    "NPval = x_val_.shape[0]\n",
    "NPtst = x_tst_.shape[0]\n",
    "NI = x_tr_.shape[1]\n",
    "#aux = np.hstack((y_tr_, x_tr_))\n",
    "\n",
    "print NPtr, NPval, NPtst, NI \n",
    "\n",
    "print sc\n",
    "\n"
   ]
  },
  {
   "cell_type": "code",
   "execution_count": 22,
   "metadata": {
    "collapsed": false
   },
   "outputs": [
    {
     "name": "stdout",
     "output_type": "stream",
     "text": [
      "4736\n",
      "1184\n",
      "1480\n"
     ]
    }
   ],
   "source": [
    "#print ind_tr\n",
    "#print ind_val\n",
    "#print x_tr[ind_tr]\n",
    "\n",
    "#print x_val_\n",
    "#print x_tr_\n",
    "\n",
    "\n",
    "XtrRDD = sc.parallelize(np.hstack((y_tr_, x_tr_))).map(lambda x: LabeledPoint(x[0], x[1:len(x)]))\n",
    "XvalRDD = sc.parallelize(np.hstack((y_val_, x_val_))).map(lambda x: LabeledPoint(x[0], x[1:len(x)]))\n",
    "XtstRDD = sc.parallelize(np.hstack((y_tst_, x_tst_))).map(lambda x: LabeledPoint(x[0], x[1:len(x)]))\n",
    "\n",
    "XtrRDD.cache()\n",
    "XvalRDD.cache()\n",
    "XtstRDD.cache()\n",
    "\n",
    "#print XtrRDD.take(1)[0].label\n",
    "#print XtrRDD.take(1)[0].features\n",
    "print XtrRDD.count()\n",
    "print XvalRDD.count()\n",
    "print XtstRDD.count()\n",
    "\n"
   ]
  },
  {
   "cell_type": "code",
   "execution_count": 23,
   "metadata": {
    "collapsed": false
   },
   "outputs": [],
   "source": [
    "T = NPtr\n",
    "\n",
    "if kdataset == 1:\n",
    "    sigma= 1.414214\n",
    "    sigma = 1.030962\n",
    "    C = 100.0\n",
    "    NC = 10\n",
    "\n",
    "if kdataset == 2:\n",
    "    sigma = 1.414214\n",
    "    sigma = 0.485075\n",
    "    C = 500.0\n",
    "    NC = 25\n",
    "    \n",
    "if kdataset == 3:\n",
    "    sigma = 7.727851\n",
    "    sigma = 0.559017\n",
    "    C = 1.0\n",
    "    NC = 75\n",
    "\n",
    "if kdataset == 4:\n",
    "    sigma = 3.340698\n",
    "    C = 100.0\n",
    "    NC = 75\n",
    "\n"
   ]
  },
  {
   "cell_type": "markdown",
   "metadata": {},
   "source": [
    "#### Let's train the linear SVM"
   ]
  },
  {
   "cell_type": "code",
   "execution_count": 24,
   "metadata": {
    "collapsed": false
   },
   "outputs": [],
   "source": [
    "def build_X1(x):\n",
    "    NI = len(x.features)\n",
    "    k = np.vstack((np.array(1).reshape((1,1)),x.features.reshape((NI, 1))))\n",
    "    return LabeledPoint(x.label, k.T)\n",
    "\n",
    "\n",
    "Xtr1RDD = XtrRDD.map(lambda x: build_X1(x)).cache()\n",
    "Xval1RDD = XvalRDD.map(lambda x: build_X1(x)).cache()\n",
    "Xtst1RDD = XtstRDD.map(lambda x: build_X1(x)).cache()\n",
    "\n",
    "def get_inc_w(x, w, landa):\n",
    "    k = x.features\n",
    "    NI = len(k)\n",
    "    k = k.reshape(NI, 1)\n",
    "    ytr = x.label\n",
    "    yKw = ytr * np.dot(k.T, w);\n",
    "    if yKw < 1:\n",
    "        incw = -landa * w + ytr * k\n",
    "    else:\n",
    "        incw = -landa * w\n",
    "    return incw\n",
    "\n",
    "Samplefraction = 0.05\n",
    "\n",
    "eta = C\n",
    "landa = 1.0/C"
   ]
  },
  {
   "cell_type": "code",
   "execution_count": 25,
   "metadata": {
    "collapsed": false
   },
   "outputs": [
    {
     "name": "stdout",
     "output_type": "stream",
     "text": [
      "0 1 2 3 4\n"
     ]
    }
   ],
   "source": [
    "w = np.zeros(NI + 1).reshape((NI + 1,1))\n",
    "N_added = 0 \n",
    "for k in range(0,Niter):\n",
    "    print k, \n",
    "    Xtr1RDDsampled = Xtr1RDD.sample(withReplacement=True, fraction=Samplefraction)\n",
    "    incwRDD = Xtr1RDDsampled.map(lambda x: get_inc_w(x, w, landa))\n",
    "    Nsample = incwRDD.count()\n",
    "    N_added += Nsample \n",
    "    eta = C/N_added\n",
    "    w += eta * incwRDD.reduce(lambda x, y: x + y)\n",
    "\n",
    "#x = Xtr1RDDsampled.take(1)[0].features\n",
    "#NI = len(x)\n"
   ]
  },
  {
   "cell_type": "code",
   "execution_count": 14,
   "metadata": {
    "collapsed": false
   },
   "outputs": [
    {
     "name": "stderr",
     "output_type": "stream",
     "text": [
      "/usr/lib64/python2.7/site-packages/ipykernel/__main__.py:12: DeprecationWarning: using a non-integer number instead of an integer will result in an error in the future\n",
      "/usr/lib64/python2.7/site-packages/ipykernel/__main__.py:24: DeprecationWarning: using a non-integer number instead of an integer will result in an error in the future\n"
     ]
    },
    {
     "name": "stdout",
     "output_type": "stream",
     "text": [
      "(100, 100)\n",
      "[1.0,-0.188725646611,1.45179131785]\n",
      "[[ 60.43956044]\n",
      " [-12.28739895]\n",
      " [ 85.18016218]]\n"
     ]
    },
    {
     "name": "stderr",
     "output_type": "stream",
     "text": [
      "/opt/spark-1.6.0-bin-2.6.0/python/pyspark/mllib/clustering.py:176: UserWarning: Support for runs is deprecated in 1.6.0. This param will have no effect in 1.7.0.\n",
      "  \"Support for runs is deprecated in 1.6.0. This param will have no effect in 1.7.0.\")\n"
     ]
    },
    {
     "data": {
      "image/png": "[encoded data removed]",
      "text/plain": [
       "<matplotlib.figure.Figure at 0x7fe014b409d0>"
      ]
     },
     "metadata": {},
     "output_type": "display_data"
    },
    {
     "name": "stdout",
     "output_type": "stream",
     "text": [
      "25\n"
     ]
    }
   ],
   "source": [
    "xtr = np.array(XtrRDD.map(lambda x: x.features).collect())\n",
    "ytr = np.array(XtrRDD.map(lambda x: x.label).collect())\n",
    "\n",
    "index1labels = np.where(ytr > 0)\n",
    "index0labels = np.where(ytr <= 0)\n",
    "\n",
    "if kdataset == 1 or kdataset == 2:   # el resto no se pueden pintar \n",
    "\n",
    "    plt.plot(xtr[index1labels,0], xtr[index1labels,1],'b.')\n",
    "    plt.plot(xtr[index0labels,0], xtr[index0labels,1],'r.')\n",
    "    NP = 100.0\n",
    "    SUP = np.zeros((NP,NP))\n",
    "    ejex = np.arange(NP).astype(float) / NP * 4.0 - 2.0\n",
    "    X_mesh = np.array([0, 0, 0]).reshape((1,3))\n",
    "    for m in range(0, int(NP)):\n",
    "        for n in range(0, int(NP)):\n",
    "            aux = np.array([1.0, ejex[m], ejex[n]]).reshape((1,3))\n",
    "            X_mesh = np.vstack((X_mesh, aux))\n",
    "\n",
    "    y_pred = np.dot(X_mesh, w)\n",
    "\n",
    "    y_pred = y_pred[1:]\n",
    "\n",
    "    Z = y_pred.reshape((NP,NP))\n",
    "\n",
    "    print Z.shape\n",
    "    levels = np.arange(-1.0, 2.0 , 1.0)\n",
    "\n",
    "    CS = plt.contour(ejex, ejex, Z.T, levels, colors = 'k')\n",
    "    plt.clabel(CS, fontsize=9, inline=1)\n",
    "    plt.xlabel('x1')\n",
    "    plt.ylabel('x2')\n",
    "    plt.title('Dataset')\n",
    "    plt.grid(True)\n",
    "    #plt.savefig(\"test.png\")\n",
    "\n",
    "def in_margin(x, w):\n",
    "    k = x.features\n",
    "    ytr = x.label\n",
    "    yKw = ytr * np.dot(k, w);\n",
    "    return yKw < 1\n",
    "\n",
    "x = Xtr1RDD.take(1)[0].features\n",
    "print x\n",
    "print w\n",
    "\n",
    "SV_RDD = Xtr1RDD.filter(lambda x: in_margin(x, w))\n",
    "clusters = KMeans.train(SV_RDD.map(lambda x: x.features[1:len(x.features)]), NC, maxIterations=10,runs=10, initializationMode=\"random\")\n",
    "c = np.array(clusters.centers)\n",
    "\n",
    "if kdataset == 1 or kdataset == 2:   # el resto no se pueden pintar \n",
    "    plt.plot(c[:,0], c[:,1],'ro')\n",
    "    plt.show()\n",
    "\n",
    "NC = c.shape[0]\n",
    "print NC\n",
    "\n"
   ]
  },
  {
   "cell_type": "code",
   "execution_count": 15,
   "metadata": {
    "collapsed": false
   },
   "outputs": [],
   "source": [
    "# forma alternativa de clustering...\n",
    "\n",
    "#gmm = GaussianMixture.train(XtrRDD.map(lambda x: x.features), NC)\n",
    "#c = np.array(gmm.gaussians[0].mu)\n",
    "#for i in range(1,NC):\n",
    "#    newc = gmm.gaussians[i].mu\n",
    "#    c = np.vstack((c, newc))\n",
    "#print c"
   ]
  },
  {
   "cell_type": "markdown",
   "metadata": {},
   "source": [
    "#### Let's train the nonlinear SVM"
   ]
  },
  {
   "cell_type": "code",
   "execution_count": 16,
   "metadata": {
    "collapsed": false
   },
   "outputs": [
    {
     "name": "stdout",
     "output_type": "stream",
     "text": [
      "[LabeledPoint(1.0, [1.0,-0.188725646611,1.45179131785,0.000501576917145,6.21943646683e-07,2.00055460074e-06,7.57308246418e-05,1.41845428198e-06,2.06372363904e-05,6.46045667398e-06,5.14996297735e-06,3.16153367616e-06,5.93444095598e-09,1.74635774235e-05,1.54156234062e-05,1.47924624952e-08,0.000125078015089,0.000173101430871,2.14211732445e-05,1.12116043867e-06,2.7784511128e-07,0.00481166357873,2.62412738959e-05,0.000181695343354,3.15850500766e-07,6.79299240699e-06,2.01876207012e-07,2.00706132901e-06])]\n"
     ]
    }
   ],
   "source": [
    "def kernelG(x,c,sigma):\n",
    "    NC = c.shape[0]\n",
    "    X = np.kron(np.ones(NC).reshape((NC,1)),x.features)\n",
    "    e = X-c\n",
    "    e = e**2\n",
    "    e = e.sum(axis=1)\n",
    "    k = np.exp(-0.5 * e /sigma/sigma)\n",
    "    k = k.reshape((NC, 1))\n",
    "    return k\n",
    "\n",
    "x = XtrRDD.take(1)[0]\n",
    "\n",
    "def build_k(x, c, sigma):\n",
    "    NI = len(x.features)\n",
    "    k = np.vstack((np.array(1).reshape((1,1)),x.features.reshape((NI, 1))))\n",
    "    k = np.vstack((k,kernelG(x,c,sigma)))\n",
    "    x = LabeledPoint(x.label, k.T)\n",
    "    return x\n",
    "    \n",
    "KtrRDD = XtrRDD.map(lambda x: build_k(x, c, sigma)).cache()\n",
    "KvalRDD = XvalRDD.map(lambda x: build_k(x, c, sigma)).cache()\n",
    "KtstRDD = XtstRDD.map(lambda x: build_k(x, c, sigma)).cache()\n",
    "\n",
    "print KtrRDD.take(1)"
   ]
  },
  {
   "cell_type": "code",
   "execution_count": 17,
   "metadata": {
    "collapsed": false,
    "scrolled": true
   },
   "outputs": [],
   "source": [
    "x = KtrRDD.take(1)[0]\n",
    "NI = len(x.features)\n",
    "w = np.zeros(NI).reshape((NI,1))\n",
    "KtrRDDsampled = KtrRDD.sample(withReplacement=True, fraction=Samplefraction)\n",
    "\n",
    "for k in range(0,Niter):\n",
    "    print k, \n",
    "    KtrRDDsampled = KtrRDD.sample(withReplacement=True, fraction=Samplefraction)\n",
    "    incwRDD = KtrRDDsampled.map(lambda x: get_inc_w(x, w, landa))\n",
    "    Nsample = incwRDD.count()\n",
    "    N_added += Nsample \n",
    "    eta = C/N_added\n",
    "    w += eta * incwRDD.reduce(lambda x, y: x + y)"
   ]
  },
  {
   "cell_type": "code",
   "execution_count": 18,
   "metadata": {
    "collapsed": false
   },
   "outputs": [
    {
     "name": "stderr",
     "output_type": "stream",
     "text": [
      "/usr/lib64/python2.7/site-packages/ipykernel/__main__.py:13: DeprecationWarning: using a non-integer number instead of an integer will result in an error in the future\n"
     ]
    },
    {
     "name": "stdout",
     "output_type": "stream",
     "text": [
      "(10001, 28)\n",
      "(28, 1)\n",
      "(100, 100)\n"
     ]
    },
    {
     "name": "stderr",
     "output_type": "stream",
     "text": [
      "/usr/lib64/python2.7/site-packages/ipykernel/__main__.py:37: DeprecationWarning: using a non-integer number instead of an integer will result in an error in the future\n"
     ]
    },
    {
     "data": {
      "image/png": "[encoded data removed]",
      "text/plain": [
       "<matplotlib.figure.Figure at 0x7fe014b40050>"
      ]
     },
     "metadata": {},
     "output_type": "display_data"
    }
   ],
   "source": [
    "xtr = np.array(XtrRDD.map(lambda x: x.features).collect())\n",
    "ytr = np.array(XtrRDD.map(lambda x: x.label).collect())\n",
    "\n",
    "index1labels = np.where(ytr > 0)\n",
    "index0labels = np.where(ytr <= 0)\n",
    "\n",
    "if kdataset == 1 or kdataset == 2:   # el resto no se pueden pintar \n",
    "\n",
    "    plt.plot(xtr[index1labels,0], xtr[index1labels,1],'b.')\n",
    "    plt.plot(xtr[index0labels,0], xtr[index0labels,1],'r.')\n",
    "\n",
    "    NP = 100.0\n",
    "    SUP = np.zeros((NP,NP))\n",
    "    ejex = np.arange(NP).astype(float) / NP * 4.0 - 2.0\n",
    "    X_mesh = np.zeros(NI).reshape((1,NI))\n",
    "\n",
    "    NC = c.shape[0]\n",
    "    for m in range(0, int(NP)):\n",
    "        for n in range(0, int(NP)):\n",
    "            x1 = np.array([1.0, ejex[m], ejex[n]]).reshape((1,3))\n",
    "            X = np.kron(np.ones(NC).reshape((NC,1)),[ejex[m], ejex[n]])\n",
    "            e = X-c\n",
    "            e = e**2\n",
    "            e = e.sum(axis=1)\n",
    "            k = np.exp(-0.5 * e /sigma/sigma)\n",
    "            k = k.reshape((1, NC))\n",
    "            kx1 = np.hstack((x1,k))\n",
    "            X_mesh = np.vstack((X_mesh, kx1))\n",
    "\n",
    "    print X_mesh.shape\n",
    "    print w.shape\n",
    "\n",
    "    y_pred = np.dot(X_mesh, w)\n",
    "\n",
    "    y_pred = y_pred[1:]\n",
    "\n",
    "    Z = y_pred.reshape((NP,NP))\n",
    "\n",
    "    print Z.shape\n",
    "    levels = np.arange(-1.0, 2.0 , 1.0)\n",
    "\n",
    "    CS = plt.contour(ejex, ejex, Z.T, levels, colors = 'k')\n",
    "    plt.clabel(CS, fontsize=9, inline=1)\n",
    "    plt.xlabel('x1')\n",
    "    plt.ylabel('x2')\n",
    "    plt.title('Dataset')\n",
    "    plt.grid(True)\n",
    "\n",
    "    plt.show()"
   ]
  },
  {
   "cell_type": "code",
   "execution_count": 19,
   "metadata": {
    "collapsed": false
   },
   "outputs": [
    {
     "name": "stdout",
     "output_type": "stream",
     "text": [
      "1.0\n",
      "(28,)\n",
      "(28, 1)\n",
      "[[ 50.38014056]]\n"
     ]
    }
   ],
   "source": [
    "def predict(x, w):\n",
    "    k = x.features.reshape((1,len(x.features)))\n",
    "    y_pred = np.dot(k, w)\n",
    "    return y_pred\n",
    "\n",
    "x = KtrRDD.take(1)[0]\n",
    "print x.label\n",
    "print x.features.shape\n",
    "print w.shape\n",
    "print predict(x, w)\n",
    "\n",
    "\n",
    "y_pred_trRDD = KtrRDD.map(lambda x: (x.label, predict(x, w)[0][0]))\n",
    "y_pred_valRDD = KvalRDD.map(lambda x: (x.label, predict(x, w)[0][0]))\n",
    "y_pred_tstRDD = KtstRDD.map(lambda x: (x.label, predict(x, w)[0][0]))\n",
    "\n",
    "Ytr = y_pred_trRDD.collect()\n",
    "Yval = y_pred_valRDD.collect()\n",
    "Ytst = y_pred_tstRDD.collect()\n"
   ]
  },
  {
   "cell_type": "code",
   "execution_count": 20,
   "metadata": {
    "collapsed": false
   },
   "outputs": [
    {
     "name": "stdout",
     "output_type": "stream",
     "text": [
      "0.952111347016\n",
      "0.969808241534\n",
      "0.935258394207\n"
     ]
    },
    {
     "data": {
      "image/png": "[encoded data removed]",
      "text/plain": [
       "<matplotlib.figure.Figure at 0x7fe014c01610>"
      ]
     },
     "metadata": {},
     "output_type": "display_data"
    }
   ],
   "source": [
    "from sklearn.metrics import roc_curve, auc, roc_auc_score\n",
    "\n",
    "fpr_tr, tpr_tr, th_tr = roc_curve(np.array(Ytr)[:,0], np.array(Ytr)[:,1])\n",
    "print auc(fpr_tr, tpr_tr)\n",
    "plt.plot(fpr_tr, tpr_tr,'r')\n",
    "\n",
    "fpr_val, tpr_val, th_val = roc_curve(np.array(Yval)[:,0], np.array(Yval)[:,1])\n",
    "print auc(fpr_val, tpr_val)\n",
    "plt.plot(fpr_val, tpr_val,'b')\n",
    "\n",
    "fpr_tst, tpr_tst, th_tst = roc_curve(np.array(Ytst)[:,0], np.array(Ytst)[:,1])\n",
    "print auc(fpr_tst, tpr_tst)\n",
    "plt.plot(fpr_tst, tpr_tst,'g')\n",
    "\n",
    "plt.xlabel('fpr')\n",
    "plt.ylabel('tpr')\n",
    "plt.title(name_dataset)\n",
    "plt.grid(True)\n",
    "plt.show()"
   ]
  },
  {
   "cell_type": "code",
   "execution_count": null,
   "metadata": {
    "collapsed": true
   },
   "outputs": [],
   "source": []
  },
  {
   "cell_type": "code",
   "execution_count": null,
   "metadata": {
    "collapsed": true
   },
   "outputs": [],
   "source": []
  },
  {
   "cell_type": "code",
   "execution_count": null,
   "metadata": {
    "collapsed": true
   },
   "outputs": [],
   "source": []
  }
 ],
 "metadata": {
  "kernelspec": {
   "display_name": "Python 2",
   "language": "python",
   "name": "python2"
  },
  "language_info": {
   "codemirror_mode": {
    "name": "ipython",
    "version": 2
   },
   "file_extension": ".py",
   "mimetype": "text/x-python",
   "name": "python",
   "nbconvert_exporter": "python",
   "pygments_lexer": "ipython2",
   "version": "2.7.11"
  }
 },
 "nbformat": 4,
 "nbformat_minor": 0
}
