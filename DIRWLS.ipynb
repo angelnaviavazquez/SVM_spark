{
 "cells": [
  {
   "cell_type": "markdown",
   "metadata": {
    "deletable": true,
    "editable": true
   },
   "source": [
    "\n",
    "# **Semiparametric SVM training in Spark**\n",
    "\n",
    "This is an example to run the code used in the paper:\n",
    "\n",
    "\"Distributed Non-Linear Semiparametric Support Vector Machine for Big Data Applications on Spark\"\n",
    "\n",
    "Submitted to the journal:\n",
    "\n",
    "\"IEEE Transactions on Systems, Man and Cybernetics: Systems\"\n",
    "\n",
    "This library can be used to train a Distributed Semiparametric SVM:\n",
    "\n",
    "* Making use of a distributed kmeans to obtain the elements of the semiparametric model.\n",
    "* Using a distributed version of the Iterative Re-Weighted Least Squares procedure to obtain the weights of the semiparametric model.\n",
    "\n",
    "Concretely this example run the algorithm on the adult dataset.\n",
    "\n"
   ]
  },
  {
   "cell_type": "code",
   "execution_count": 1,
   "metadata": {
    "collapsed": false
   },
   "outputs": [],
   "source": [
    "\n",
    "#########################################################################################\n",
    "# If your notebook is not configured to use a previously defined spark cluster,\n",
    "# you must uncomment the following lines and add your spark parameters and credentials.\n",
    "#########################################################################################\n",
    "\n",
    "#import findspark\n",
    "#findspark.init()\n",
    "#from pyspark import SparkConf, SparkContext\n",
    "\n",
    "#conf = (SparkConf().setMaster(\"local[4]\").setAppName(\"My app\").set(\"spark.executor.memory\", \"2g\"))\n",
    "#sc = SparkContext(conf = conf)\n",
    "\n"
   ]
  },
  {
   "cell_type": "code",
   "execution_count": 2,
   "metadata": {
    "collapsed": false
   },
   "outputs": [],
   "source": [
    "####################################################\n",
    "# Now we send our functions to the spark cluster\n",
    "####################################################\n",
    "\n",
    "from inspect import getsourcefile\n",
    "from os.path import abspath,dirname,join\n",
    "\n",
    "path_name=dirname(abspath(getsourcefile(lambda:0)))\n",
    "\n",
    "sc.addPyFile(\"file://\"+join(path_name,\"common\",\"lib\",\"IRWLSUtils.py\"))\n",
    "sc.addPyFile(\"file://\"+join(path_name,\"common\",\"lib\",\"svm_utils.py\"))\n",
    "sc.addPyFile(\"file://\"+join(path_name,\"common\",\"lib\",\"KernelUtils.py\"))\n",
    "sc.addPyFile(\"file://\"+join(path_name,\"common\",\"lib\",\"ResultsUtils.py\"))\n",
    "\n"
   ]
  },
  {
   "cell_type": "code",
   "execution_count": 3,
   "metadata": {
    "collapsed": false
   },
   "outputs": [
    {
     "name": "stdout",
     "output_type": "stream",
     "text": [
      "Loaded dataset\n"
     ]
    }
   ],
   "source": [
    "\n",
    "############################################################\n",
    "# Now we load our train, validation and test set\n",
    "#\n",
    "# The dataset must be in the folder 'data' of this demo\n",
    "# currently we are using the adult dataset, if you desire to use\n",
    "# a different dataset your must specify your file names.\n",
    "# They must be in libsvm format. Labels must be (0,1) or (-1, 1)\n",
    "############################################################\n",
    "\n",
    "from pyspark.mllib.util import MLUtils\n",
    "from pyspark.mllib.regression import LabeledPoint\n",
    "from pyspark.mllib.linalg import SparseVector, DenseVector\n",
    "import numpy as np\n",
    "\n",
    "# Training file\n",
    "filenameTR = \"adultTR\"\n",
    "\n",
    "# Test file\n",
    "filenameTST = \"adultTST\"\n",
    "\n",
    "dimensions=123\n",
    "\n",
    "XtrRDD = MLUtils.loadLibSVMFile(sc, \"file://\"+join(path_name,\"data\",filenameTR),dimensions) \\\n",
    "    .map(lambda x: LabeledPoint(x.label, DenseVector((x.features).toArray()))) \n",
    "\n",
    "\n",
    "XtstRDD = MLUtils.loadLibSVMFile(sc, \"file://\"+join(path_name,\"data\",filenameTST),dimensions) \\\n",
    "    .map(lambda x: LabeledPoint(x.label, DenseVector((x.features).toArray()))) \n",
    "\n",
    "\n",
    "\n",
    "# Mapping labels to (-1, 1), if neccesary\n",
    "labels = set(XtrRDD.map(lambda x: x.label).take(100))\n",
    "if 0 in labels:\n",
    "    print \"Mapping labels to (-1, 1)...\"\n",
    "    XtrRDD = XtrRDD.map(lambda x: LabeledPoint(x.label * 2.0 - 1.0, x.features))\n",
    "    XtstRDD = XtstRDD.map(lambda x: LabeledPoint(x.label * 2.0 - 1.0, x.features))\n",
    "\n",
    "\n",
    "print(\"Loaded dataset\")\n"
   ]
  },
  {
   "cell_type": "code",
   "execution_count": 4,
   "metadata": {
    "collapsed": false
   },
   "outputs": [
    {
     "name": "stdout",
     "output_type": "stream",
     "text": [
      "Obtaining weights using kmeans\n",
      "Time obtaining centroids 23.5045239925\n",
      "Obtaining weights using IRWLS\n",
      "Iteration 1 : Cost Function 35045.6950759 , Iteration Time 5.48758792877\n",
      "Iteration 2 : Cost Function 14038.9966916 , Iteration Time 3.55771303177\n",
      "Iteration 3 : Cost Function 14038.7822024 , Iteration Time 3.43368315697\n",
      "Iteration 4 : Cost Function 14038.7822024 , Iteration Time 3.50362801552\n",
      "Time obtaining weights 16.022397995\n",
      "AUCtr = 0.901157, AUCtst = 0.899044\n",
      "ACCtr = 0.845490, ACCtst = 0.850255\n",
      "Elapsed minutes kmeans = 0.391742\n",
      "Elapsed minutes DIRWLS = 0.267040\n",
      "Elapsed minutes classification = 0.029007\n"
     ]
    }
   ],
   "source": [
    "\n",
    "#################################################################################################################\n",
    "#Finally we define the parameterss of our algorithm and \n",
    "# we evaluate the AUC, accuracy, training time and classification time\n",
    "##################################################################################################################\n",
    "\n",
    "NC=150\n",
    "C = 1000.0\n",
    "sigma = 10\n",
    "\n",
    "from IRWLSUtils import train_SVM\n",
    "\n",
    "AUCTR, AUCTST, ACCTR, ACCTST, classificationTIME, kmeansTIME, IRWLSTIME = \\\n",
    "    train_SVM(sc, XtrRDD, XtstRDD, sigma, C, NC)\n",
    "    \n",
    "    \n",
    "print \"AUCtr = %f, AUCtst = %f\" % (AUCTR,AUCTST)\n",
    "print \"ACCtr = %f, ACCtst = %f\" % (ACCTR,ACCTST)\n",
    "print \"Elapsed minutes kmeans = %f\" % (kmeansTIME / 60.0)\n",
    "print \"Elapsed minutes DIRWLS = %f\" % (IRWLSTIME / 60.0)\n",
    "print \"Elapsed minutes classification = %f\" % (classificationTIME / 60.0)\n"
   ]
  },
  {
   "cell_type": "code",
   "execution_count": null,
   "metadata": {
    "collapsed": true
   },
   "outputs": [],
   "source": []
  }
 ],
 "metadata": {
  "kernelspec": {
   "display_name": "Python 2",
   "language": "python",
   "name": "python2"
  },
  "language_info": {
   "codemirror_mode": {
    "name": "ipython",
    "version": 2
   },
   "file_extension": ".py",
   "mimetype": "text/x-python",
   "name": "python",
   "nbconvert_exporter": "python",
   "pygments_lexer": "ipython2",
   "version": "2.7.6"
  }
 },
 "nbformat": 4,
 "nbformat_minor": 0
}
